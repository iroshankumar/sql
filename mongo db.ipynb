{
 "cells": [
  {
   "cell_type": "markdown",
   "id": "80f03b08",
   "metadata": {},
   "source": [
    "#### Q1. What is MongoDB? Explain non-relational databases in short. In which scenarios is it preferred to use MongoDB over SQL databases?"
   ]
  },
  {
   "cell_type": "markdown",
   "id": "b7a950a0",
   "metadata": {},
   "source": [
    "MongoDB is a popular open-source NoSQL database management system that uses a document-oriented data model. In MongoDB, data is stored in flexible, JSON-like documents, which allows for the easy handling of various data types and structures. It is known for its scalability, flexibility, and ability to handle large volumes of unstructured or semi-structured data.\n",
    "\n",
    "Non-relational databases (NoSQL) are databases that do not rely on a traditional relational database management system (RDBMS) structure. Unlike SQL databases, which use tables and predefined schemas, NoSQL databases like MongoDB can store vast amounts of data in various formats. They are preferred in scenarios where:\n",
    "\n",
    "The data structure is evolving and not well-defined upfront.\n",
    "There is a need to handle large volumes of data and high user loads, especially in real-time applications.\n",
    "The data model doesn't fit well in a tabular structure.\n",
    "Rapid development and iteration are essential, and flexibility is a priority.\n",
    "MongoDB is often preferred over SQL databases in scenarios such as content management systems, real-time analytics, mobile applications, and IoT applications due to its flexibility and ability to handle large amounts of diverse data.\n"
   ]
  },
  {
   "cell_type": "markdown",
   "id": "9f8f7e5d",
   "metadata": {},
   "source": [
    "#### Q2. State and Explain the features of MongoDB.\n"
   ]
  },
  {
   "cell_type": "markdown",
   "id": "e5f1582d",
   "metadata": {},
   "source": [
    "MongoDB features include:\n",
    "\n",
    "Document-Oriented: Data is stored in flexible, JSON-like BSON (Binary JSON) format.\n",
    "Dynamic Schema: Fields can vary in content and structure within a collection.\n",
    "Scalability: Supports horizontal scaling through sharding.\n",
    "Query Language: Rich query language, supporting a wide range of queries.\n",
    "Indexing: Supports secondary indexes for efficient querying.\n",
    "Aggregation Framework: Allows filtering, transforming, and manipulating data.\n",
    "Load Balancing: Automatic data distribution across nodes in a cluster.\n",
    "High Availability: Supports replica sets for fault tolerance and data redundancy.\n",
    "JSON/BSON Support: Can handle JSON and BSON data formats.\n",
    "Geospatial Indexing: Supports geospatial queries to handle location-based data."
   ]
  },
  {
   "cell_type": "markdown",
   "id": "f62b4560",
   "metadata": {},
   "source": [
    "#### Q3. Write a code to connect MongoDB to Python. Also, create a database and a collection in MongoDB.\n",
    "\n"
   ]
  },
  {
   "cell_type": "markdown",
   "id": "8db03d46",
   "metadata": {},
   "source": [
    "pythonCopy code\n",
    "import pymongo\n",
    "\n",
    "#Establish a connection to MongoDB\n",
    "client = pymongo.MongoClient(\"mongodb://localhost:27017/\")\n",
    "\n",
    "#Create a database\n",
    "mydb = client[\"mydatabase\"]\n",
    "\n",
    "#Create a collection\n",
    "mycol = mydb[\"mycollection\"]\n"
   ]
  },
  {
   "cell_type": "markdown",
   "id": "240e8f21",
   "metadata": {},
   "source": [
    "#### Q4. Using the database and the collection created in question number 3, write a code to insert one record, and insert many records. Use the find() and find_one() methods to print the inserted record.\n"
   ]
  },
  {
   "cell_type": "code",
   "execution_count": null,
   "id": "de2d4381",
   "metadata": {},
   "outputs": [],
   "source": [
    "pythonCopy code\n",
    "#Insert one record\n",
    "record = {\"name\": \"John\", \"age\": 30}\n",
    "mycol.insert_one(record)\n",
    "\n",
    "#Insert many records\n",
    "records = [\n",
    "{\"name\": \"Alice\", \"age\": 28},\n",
    "{\"name\": \"Bob\", \"age\": 35}\n",
    "]\n",
    "mycol.insert_many(records)\n",
    "\n",
    "#Print inserted records\n",
    "print(\"All records:\")\n",
    "for record in mycol.find():\n",
    "print(record)\n",
    "\n",
    "print(\"\\nOne record:\")\n",
    "print(mycol.find_one({\"name\": \"John\"}))\n"
   ]
  },
  {
   "cell_type": "markdown",
   "id": "0e0ae9bb",
   "metadata": {},
   "source": [
    "#### Q5. Explain how you can use the find() method to query the MongoDB database. Write a simple code to demonstrate this.\n"
   ]
  },
  {
   "cell_type": "code",
   "execution_count": null,
   "id": "59aae6d4",
   "metadata": {},
   "outputs": [],
   "source": [
    "The find() method is used to query the database and retrieve documents that match the specified criteria. It returns a cursor, which can be iterated to retrieve matching documents.\n",
    "\n",
    "pythonCopy code\n",
    "# Find documents where age is greater than 25\n",
    "query = {\"age\": {\"$gt\": 25}}\n",
    "results = mycol.find(query)\n",
    "\n",
    "# Print matching documents\n",
    "for result in results:\n",
    "print(result)\n"
   ]
  },
  {
   "cell_type": "markdown",
   "id": "00b66a5b",
   "metadata": {},
   "source": [
    "#### Q6. Explain the sort() method. Give an example to demonstrate sorting in MongoDB.\n"
   ]
  },
  {
   "cell_type": "code",
   "execution_count": null,
   "id": "50779ee6",
   "metadata": {},
   "outputs": [],
   "source": [
    "The sort() method in MongoDB is used to sort the documents in the result set based on specified fields. It takes a dictionary where the keys represent the fields to sort by, and the values indicate the sort order (1 for ascending, -1 for descending).\n",
    "\n",
    "Example:\n",
    "\n",
    "pythonCopy code\n",
    "# Sort documents by age in descending order\n",
    "results = mycol.find().sort(\"age\", -1)\n",
    "\n",
    "# Print sorted documents\n",
    "for result in results:\n",
    "print(result)\n",
    "\n"
   ]
  },
  {
   "cell_type": "markdown",
   "id": "ff4fd8e1",
   "metadata": {},
   "source": [
    "#### Q7. Explain why delete_one(), delete_many(), and drop() are used.\n"
   ]
  },
  {
   "cell_type": "code",
   "execution_count": null,
   "id": "7f097ad4",
   "metadata": {},
   "outputs": [],
   "source": [
    "delete_one(filter): Deletes a single document that matches the specified filter criteria. Example: mycol.delete_one({\"name\": \"John\"})\n",
    "delete_many(filter): Deletes all documents that match the specified filter criteria. Example: mycol.delete_many({\"age\": {\"$gt\": 30}})\n",
    "drop(): Drops the entire collection, removing it from the database. Example: mycol.drop()\n",
    "delete_one() and delete_many() are used when specific documents need to be removed, while drop() is used when the entire collection needs to be deleted."
   ]
  }
 ],
 "metadata": {
  "kernelspec": {
   "display_name": "Python 3 (ipykernel)",
   "language": "python",
   "name": "python3"
  },
  "language_info": {
   "codemirror_mode": {
    "name": "ipython",
    "version": 3
   },
   "file_extension": ".py",
   "mimetype": "text/x-python",
   "name": "python",
   "nbconvert_exporter": "python",
   "pygments_lexer": "ipython3",
   "version": "3.9.7"
  }
 },
 "nbformat": 4,
 "nbformat_minor": 5
}
