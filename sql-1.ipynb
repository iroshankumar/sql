{
 "cells": [
  {
   "cell_type": "markdown",
   "id": "bc2972b4",
   "metadata": {},
   "source": [
    "#### Q1. What is a database? Differentiate between SQL and NoSQL databases."
   ]
  },
  {
   "cell_type": "markdown",
   "id": "3c94e87c",
   "metadata": {},
   "source": [
    "A database is an organized collection of structured data, managed electronically. It enables efficient storage, retrieval, and manipulation of data.\n",
    "\n",
    "Differentiating SQL and NoSQL\n",
    "SQL Databases: Structured, use fixed schema, and are best for complex queries and transactions. Examples: MySQL, PostgreSQL.\n",
    "  \n",
    "NoSQL Databases: Non-relational, flexible schema, suitable for large unstructured data sets and scalable applications. Examples: MongoDB, Redis."
   ]
  },
  {
   "cell_type": "markdown",
   "id": "ba9b569f",
   "metadata": {},
   "source": [
    "#### Q2. What is DDL? Explain why CREATE, DROP, ALTER, and TRUNCATE are used with an example."
   ]
  },
  {
   "cell_type": "markdown",
   "id": "0f8dbb37",
   "metadata": {},
   "source": [
    "DDL (Data Definition Language):DDL is a subset of SQL used for defining and managing database structures.\n",
    "\n",
    "CREATE:Used to create new database objects like tables.\n",
    "  Example: CREATE TABLE Employees (ID INT, Name VARCHAR(255), Age INT)\n",
    "\n",
    "DROP: Removes an existing database object.\n",
    "  Example: DROP TABLE Employees;\n",
    "\n",
    "ALTER: Modifies an existing database object (e.g., table structure).\n",
    "Example: ALTER TABLE Employees ADD COLUMN Salary INT;\n",
    "\n",
    "TRUNCATE:Removes all records from a table, but retains the table structure.\n",
    "  Example: TRUNCATE TABLE Employees;\n",
    "  "
   ]
  },
  {
   "cell_type": "markdown",
   "id": "73434293",
   "metadata": {},
   "source": [
    "#### Q3. What is DML? Explain INSERT, UPDATE, and DELETE with an example."
   ]
  },
  {
   "cell_type": "markdown",
   "id": "24e22db7",
   "metadata": {},
   "source": [
    "DML (Data Manipulation Language): DML is a subset of SQL used for managing data stored in a database.\n",
    "\n",
    "INSERT: Adds new records into a table.\n",
    "Example: INSERT INTO Employees (ID, Name, Age) VALUES (1, 'John', 30);\n",
    "\n",
    "UPDATE: Modifies existing records in a table.\n",
    "Example: UPDATE Employees SET Age = 31 WHERE ID = 1;\n",
    "\n",
    "DELETE: Removes records from a table.\n",
    "Example: DELETE FROM Employees WHERE ID = 1;"
   ]
  },
  {
   "cell_type": "markdown",
   "id": "29fdde20",
   "metadata": {},
   "source": [
    "#### What is DQL? Explain SELECT with an example."
   ]
  },
  {
   "cell_type": "markdown",
   "id": "59303a92",
   "metadata": {},
   "source": [
    "DQL (Data Query Language): DQL is a subset of SQL used for querying information from a database.\n",
    "\n",
    "SELECT: Retrieves data from one or more tables based on specific criteria.\n",
    "\n",
    "Example: SELECT Name, Age FROM Employees WHERE Age > 25;"
   ]
  },
  {
   "cell_type": "markdown",
   "id": "bdb121eb",
   "metadata": {},
   "source": [
    "#### Q5. Explain Primary Key and Foreign Key."
   ]
  },
  {
   "cell_type": "markdown",
   "id": "a85e8f08",
   "metadata": {},
   "source": [
    "Primary Key:\n",
    "A primary key is a unique identifier for each record in a database table. It ensures that every row in a table is uniquely identified. Each table can have only one primary key, and it cannot contain NULL values. The primary key is used to enforce entity integrity and establish relationships between different tables in a database.\n",
    "\n",
    "Foreign Key:\n",
    "A foreign key is a field in a database table that is used to establish a link between two tables. It creates a relationship between the data in two tables by referencing the primary key of one table in another table. The table containing the foreign key is called the referencing table, and the table being referenced is called the referenced table. Foreign keys enforce referential integrity, ensuring that relationships between tables are valid and consistent.\n",
    "\n",
    "In simpler terms, a primary key uniquely identifies a record within its own table, while a foreign key establishes a connection between different tables by referring to the primary key of another table.\n"
   ]
  },
  {
   "cell_type": "markdown",
   "id": "bf2831cd",
   "metadata": {},
   "source": [
    "#### Q6.Write a python code to connect MySQL to python. Explain the cursor() and execute() method."
   ]
  },
  {
   "cell_type": "markdown",
   "id": "51dca328",
   "metadata": {},
   "source": [
    "import mysql.connector\n",
    "\n",
    "#Establish a connection to MySQL\n",
    "conn = mysql.connector.connect(\n",
    "    host=\"your_host\",\n",
    "    user=\"your_username\",\n",
    "    password=\"your_password\",\n",
    "    database=\"your_database\"\n",
    ")\n",
    "\n",
    "#Create a cursor object using cursor() method\n",
    "cursor = conn.cursor()\n",
    "\n",
    "#Example SQL query\n",
    "sql_query = \"SELECT * FROM your_table\"\n",
    "\n",
    "#Execute the SQL query using execute() method\n",
    "cursor.execute(sql_query)\n",
    "\n",
    "#Fetch all the rows using fetchall() method\n",
    "results = cursor.fetchall()\n",
    "\n",
    "#Process the results\n",
    "for row in results:\n",
    "    print(row)\n",
    "\n",
    "#Close the cursor and connection\n",
    "cursor.close()\n",
    "conn.close()\n",
    "\n",
    "\n",
    "cursor() method: The cursor() method creates a new cursor object using which you can execute SQL queries and fetch results from the database.\n",
    "\n",
    "execute() method: The execute() method is used to execute SQL queries through the cursor object. In the example above, it executes the sql_query statement and retrieves the results.\n",
    "\n",
    "Remember to replace \"your_host\", \"your_username\", \"your_password\", \"your_database\", and \"your_table\" with your specific MySQL database details.\n",
    "\n",
    "After executing the query, you can fetch the results using methods like fetchall(), fetchone(), etc., depending on your use case. Finally, don't forget to close the cursor and the connection using the close() method to free up resources."
   ]
  },
  {
   "cell_type": "markdown",
   "id": "d3eda76c",
   "metadata": {},
   "source": [
    "#### Q7. Give the order of execution of SQL clauses in an SQL query."
   ]
  },
  {
   "cell_type": "markdown",
   "id": "9b4356a7",
   "metadata": {},
   "source": [
    "In a standard SQL query, the clauses are executed in the following order:\n",
    "\n",
    "SELECT: Determines the columns to retrieve from one or more tables.\n",
    "\n",
    "FROM: Specifies the table(s) from which to retrieve the data specified in the SELECT clause.\n",
    "\n",
    "JOIN: Combines rows from two or more tables based on a related column between them.\n",
    "\n",
    "WHERE: Filters the rows based on a specified condition.\n",
    "\n",
    "GROUP BY: Groups rows that have the same values into aggregated data, like sum, count, etc., based on a specified column.\n",
    "\n",
    "HAVING: Filters the results of aggregate functions applied to the grouped data.\n",
    "\n",
    "ORDER BY: Sorts the result set based on specified columns, either ascending or descending.\n",
    "\n",
    "LIMIT/OFFSET: Limits the number of rows returned or skips a specific number of rows in the result set (not supported by all databases).\n",
    "\n",
    "Remember that not all queries will include all these clauses. The structure and which clauses are necessary depend on the specific requirements of the query being executed."
   ]
  },
  {
   "cell_type": "code",
   "execution_count": null,
   "id": "080573c9",
   "metadata": {},
   "outputs": [],
   "source": []
  }
 ],
 "metadata": {
  "kernelspec": {
   "display_name": "Python 3 (ipykernel)",
   "language": "python",
   "name": "python3"
  },
  "language_info": {
   "codemirror_mode": {
    "name": "ipython",
    "version": 3
   },
   "file_extension": ".py",
   "mimetype": "text/x-python",
   "name": "python",
   "nbconvert_exporter": "python",
   "pygments_lexer": "ipython3",
   "version": "3.9.7"
  }
 },
 "nbformat": 4,
 "nbformat_minor": 5
}
